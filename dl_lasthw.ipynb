{
  "cells": [
    {
      "cell_type": "code",
      "source": [
        "from google.colab import drive\n",
        "drive.mount('/content/drive')"
      ],
      "metadata": {
        "colab": {
          "base_uri": "https://localhost:8080/"
        },
        "id": "XElKlQ3KnQRy",
        "outputId": "5b3e6633-2cd1-4e15-84ff-be51f303ed7f"
      },
      "execution_count": null,
      "outputs": [
        {
          "output_type": "stream",
          "name": "stdout",
          "text": [
            "Mounted at /content/drive\n"
          ]
        }
      ]
    },
    {
      "cell_type": "code",
      "source": [
        "import numpy as np\n",
        "import matplotlib.pyplot as plt\n",
        "from tensorflow.keras.models import Sequential\n",
        "from tensorflow.keras.layers import Dense, Dropout, Flatten\n",
        "from tensorflow.keras.layers import Conv2D, MaxPooling2D\n",
        "from tensorflow.keras import backend as K\n",
        "from tensorflow import keras\n",
        "import pandas as pd"
      ],
      "metadata": {
        "id": "1AkswOQjkdda"
      },
      "execution_count": null,
      "outputs": []
    },
    {
      "cell_type": "code",
      "source": [
        "train_data = pd.read_csv('fmnist_train.csv')\n",
        "test_data = pd.read_csv('fmnist_test.csv')\n",
        "\n",
        "\n",
        "x_train = train_data.drop(columns=['label', 'Id']).values\n",
        "y_train = train_data['label'].values\n",
        "\n",
        "x_test = test_data.drop(columns=['Id']).values\n",
        "test_ids = test_data['Id'].values\n",
        "\n",
        "x_train = x_train.reshape(-1, 28, 28, 1) / 255.0\n",
        "x_test = x_test.reshape(-1, 28, 28, 1) / 255.0\n",
        "\n",
        "img_rows, img_cols = 28, 28\n",
        "\n",
        "if K.image_data_format() == 'channels_first':\n",
        "    x_train = x_train.reshape(x_train.shape[0], 1, img_rows, img_cols)\n",
        "    x_test = x_test.reshape(x_test.shape[0], 1, img_rows, img_cols)\n",
        "    input_shape = (1, img_rows, img_cols)\n",
        "else:\n",
        "    x_train = x_train.reshape(x_train.shape[0], img_rows, img_cols, 1)\n",
        "    x_test = x_test.reshape(x_test.shape[0], img_rows, img_cols, 1)\n",
        "    input_shape = (img_rows, img_cols, 1)\n",
        "\n",
        "\n",
        "num_classes = 10"
      ],
      "metadata": {
        "id": "gKL2pxbck9pf"
      },
      "execution_count": null,
      "outputs": []
    },
    {
      "cell_type": "code",
      "source": [
        "from tensorflow.keras.layers import BatchNormalization\n",
        "\n",
        "model = Sequential()\n",
        "model.add(Conv2D(64, kernel_size=(3, 3), activation='relu', input_shape=input_shape, padding='same'))\n",
        "model.add(BatchNormalization())\n",
        "model.add(Conv2D(64, kernel_size=(3, 3), activation='relu', padding='same'))\n",
        "model.add(BatchNormalization())\n",
        "model.add(MaxPooling2D(pool_size=(2, 2)))\n",
        "model.add(Dropout(0.5))\n",
        "\n",
        "model.add(Conv2D(128, kernel_size=(3, 3), activation='relu', padding='same'))\n",
        "model.add(BatchNormalization())\n",
        "model.add(Conv2D(128, kernel_size=(3, 3), activation='relu', padding='same'))\n",
        "model.add(BatchNormalization())\n",
        "model.add(MaxPooling2D(pool_size=(2, 2)))\n",
        "model.add(Dropout(0.5))\n",
        "\n",
        "model.add(Flatten())\n",
        "model.add(Dense(256, activation='relu'))\n",
        "model.add(BatchNormalization())\n",
        "model.add(Dropout(0.5))\n",
        "\n",
        "model.add(Dense(num_classes, activation='softmax'))\n",
        "\n",
        "model.compile(loss='sparse_categorical_crossentropy',\n",
        "              optimizer='adam',\n",
        "              metrics=['accuracy'])\n"
      ],
      "metadata": {
        "id": "yU9BJxgvlHX1"
      },
      "execution_count": null,
      "outputs": []
    },
    {
      "cell_type": "code",
      "source": [
        "batch_size = 128\n",
        "epochs = 10\n",
        "\n",
        "\n",
        "model.fit(x_train, y_train,\n",
        "          batch_size=batch_size,\n",
        "          epochs=epochs,\n",
        "          verbose=1,\n",
        "          validation_split=0.2)\n"
      ],
      "metadata": {
        "colab": {
          "base_uri": "https://localhost:8080/"
        },
        "id": "_Zfs5ZapmWiY",
        "outputId": "7d74fd20-3e29-49f5-b6e1-63e6ef211a29"
      },
      "execution_count": null,
      "outputs": [
        {
          "output_type": "stream",
          "name": "stdout",
          "text": [
            "Epoch 1/10\n",
            "107/107 [==============================] - 16s 35ms/step - loss: 0.7994 - accuracy: 0.7383 - val_loss: 2.8339 - val_accuracy: 0.1097\n",
            "Epoch 2/10\n",
            "107/107 [==============================] - 3s 29ms/step - loss: 0.4825 - accuracy: 0.8296 - val_loss: 3.6177 - val_accuracy: 0.1097\n",
            "Epoch 3/10\n",
            "107/107 [==============================] - 3s 31ms/step - loss: 0.4052 - accuracy: 0.8548 - val_loss: 2.8606 - val_accuracy: 0.2295\n",
            "Epoch 4/10\n",
            "107/107 [==============================] - 3s 28ms/step - loss: 0.3562 - accuracy: 0.8696 - val_loss: 1.9853 - val_accuracy: 0.5267\n",
            "Epoch 5/10\n",
            "107/107 [==============================] - 3s 28ms/step - loss: 0.3297 - accuracy: 0.8798 - val_loss: 0.5887 - val_accuracy: 0.7832\n",
            "Epoch 6/10\n",
            "107/107 [==============================] - 3s 29ms/step - loss: 0.3068 - accuracy: 0.8873 - val_loss: 0.3580 - val_accuracy: 0.8744\n",
            "Epoch 7/10\n",
            "107/107 [==============================] - 3s 31ms/step - loss: 0.2850 - accuracy: 0.8959 - val_loss: 0.3263 - val_accuracy: 0.8985\n",
            "Epoch 8/10\n",
            "107/107 [==============================] - 3s 29ms/step - loss: 0.2717 - accuracy: 0.9017 - val_loss: 0.3006 - val_accuracy: 0.9023\n",
            "Epoch 9/10\n",
            "107/107 [==============================] - 3s 28ms/step - loss: 0.2502 - accuracy: 0.9092 - val_loss: 0.3376 - val_accuracy: 0.8908\n",
            "Epoch 10/10\n",
            "107/107 [==============================] - 3s 30ms/step - loss: 0.2437 - accuracy: 0.9103 - val_loss: 0.3170 - val_accuracy: 0.9038\n"
          ]
        },
        {
          "output_type": "execute_result",
          "data": {
            "text/plain": [
              "<keras.callbacks.History at 0x7f6bb755ff40>"
            ]
          },
          "metadata": {},
          "execution_count": 5
        }
      ]
    },
    {
      "cell_type": "code",
      "source": [
        "predictions = model.predict(x_test)\n",
        "\n",
        "predicted_classes = np.argmax(predictions, axis=1)\n",
        "\n",
        "submission_df = pd.DataFrame({\n",
        "    'Id': test_ids,\n",
        "    'Category': predicted_classes\n",
        "})\n",
        "\n",
        "submission_df.to_csv('submission.csv', index=False)"
      ],
      "metadata": {
        "colab": {
          "base_uri": "https://localhost:8080/"
        },
        "id": "Wzx96oDMmhb5",
        "outputId": "3555bcc1-c2e8-423c-cbb4-a1de7b9a59b1"
      },
      "execution_count": null,
      "outputs": [
        {
          "output_type": "stream",
          "name": "stdout",
          "text": [
            "313/313 [==============================] - 1s 3ms/step\n"
          ]
        }
      ]
    }
  ],
  "metadata": {
    "accelerator": "GPU",
    "colab": {
      "provenance": []
    },
    "kernelspec": {
      "display_name": "Python 3",
      "name": "python3"
    },
    "language_info": {
      "codemirror_mode": {
        "name": "ipython",
        "version": 3
      },
      "file_extension": ".py",
      "mimetype": "text/x-python",
      "name": "python",
      "nbconvert_exporter": "python",
      "pygments_lexer": "ipython3",
      "version": "3.10.10"
    }
  },
  "nbformat": 4,
  "nbformat_minor": 0
}